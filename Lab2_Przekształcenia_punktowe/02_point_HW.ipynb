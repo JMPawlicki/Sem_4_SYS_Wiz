{
 "cells": [
  {
   "cell_type": "markdown",
   "metadata": {
    "collapsed": false
   },
   "source": [
    "# Zadanie domowe\n",
    "\n",
    "W przypadku obrazów w odcieniach szarości pojedynczy piksel z zakresu [0; 255] reprezentowany jest jako 8-bitowa liczba bez znaku.\n",
    "Pewnym rozszerzeniem analizy sposobu reprezentacji obrazu może być następujący eksperyment.\n",
    "Załóżmy, że z każdego z 8 bitów możemy stworzyć pojedynczy obraz binarny (ang. _bit-plane slicing_).\n",
    "Dla obrazka _100zloty.jpg_ (https://raw.githubusercontent.com/vision-agh/poc_sw/master/02_Point/100zloty.jpg) stwórz 8 obrazów, z których każdy powinien zawierać jedną płaszczyznę bitową.\n",
    "Podpowiedź $-$ warto sprawdzić, jak realizuje się bitowe operacje logiczne.\n",
    "Zastosowanie takiej dekompozycji obrazu pozwala na analizę ,,ważności'' poszczególnych bitów.\n",
    "Jest to użyteczne w kwantyzacji, ale także w kompresji.\n",
    "\n",
    "W drugim etapie zadania proszę spróbować odtworzyć obraz oryginalny z mniejszej liczby obrazów binarnych.\n",
    "Warto zacząć od dwóch najbardziej znaczących bitów, a później dodawać kolejne.\n",
    "Należy utworzyć co najmniej trzy wersje zrekonstruowanych obrazów.\n",
    "Podpowiedź $-$ rekonstrukcja obrazu to mnożenie przez odpowiednią potęgę liczby 2 (przesunięcie bitowe) oraz dodawanie."
   ]
  },
  {
   "cell_type": "code",
   "execution_count": null,
   "metadata": {},
   "outputs": [],
   "source": [
    "import cv2\n",
    "import numpy as np\n",
    "import matplotlib.pyplot as plt\n",
    "import os\n",
    "\n",
    "if not os.path.exists(\"100zloty.jpg\") :\n",
    "    !wget https://raw.githubusercontent.com/vision-agh/poc_sw/master/02_Point/100zloty.jpg\n",
    "zloty=cv2.imread(\"100zloty.jpg\")\n",
    "\n",
    "zloty_kolor = cv2.cvtColor(zloty, cv2.COLOR_BGR2RGB)\n",
    "zloty_szary = cv2.cvtColor(zloty_kolor, cv2.COLOR_RGB2GRAY)\n",
    "\n",
    "bity=[]\n",
    "x=1\n",
    "height, width = zloty_szary.shape\n",
    "for bit in [np.power(2,x) for x in range(8)]:\n",
    "    zero=bit*np.ones((height, width))\n",
    "    zero_8=zero.astype('uint8')\n",
    "    bit=cv2.bitwise_and(zloty_szary,zero_8)\n",
    "    bity.append(bit)\n",
    "    plt.imshow(bit)\n",
    "    plt.xticks([])\n",
    "    plt.yticks([])\n",
    "    plt.title(\"Bit nr {}\".format(x))\n",
    "    x+=1\n",
    "    plt.gray()\n",
    "    plt.show()\n",
    "\n",
    "sto_1 = cv2.add(bity[1], bity[6])\n",
    "sto_2 = cv2.add(bity[6], bity[7])\n",
    "sto_3 = cv2.add(bity[2], bity[7])\n",
    "f, (ax1, ax2, ax3) = plt.subplots(1,3,figsize=(10,20))\n",
    "ax1.set_title('1 i 6 bity')\n",
    "ax2.set_title('6 i 7 bity')\n",
    "ax3.set_title('2 i 7 bity')\n",
    "ax1.imshow(sto_1)\n",
    "ax2.imshow(sto_2)\n",
    "ax3.imshow(sto_3)\n",
    "for ax in (ax1, ax2, ax3):\n",
    "        ax.set_xticks([])\n",
    "        ax.set_yticks([])\n",
    "plt.show()"
   ]
  }
 ],
 "metadata": {
  "kernelspec": {
   "display_name": "Python 3",
   "language": "python",
   "name": "python3"
  },
  "language_info": {
   "codemirror_mode": {
    "name": "ipython",
    "version": 3
   },
   "file_extension": ".py",
   "mimetype": "text/x-python",
   "name": "python",
   "nbconvert_exporter": "python",
   "pygments_lexer": "ipython3",
   "version": "3.10.4"
  }
 },
 "nbformat": 4,
 "nbformat_minor": 0
}
